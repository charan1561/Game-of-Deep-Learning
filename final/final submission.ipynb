{
 "cells": [
  {
   "cell_type": "code",
   "execution_count": 1,
   "metadata": {},
   "outputs": [
    {
     "name": "stderr",
     "output_type": "stream",
     "text": [
      "Using TensorFlow backend.\n"
     ]
    }
   ],
   "source": [
    "import keras\n",
    "from keras.models import Sequential\n",
    "from keras.layers import Dense, Dropout, Flatten\n",
    "from keras.layers import Conv2D, MaxPooling2D\n",
    "from keras.utils import to_categorical\n",
    "from keras.preprocessing import image\n",
    "from keras import applications\n",
    "from keras.optimizers import SGD,Adam\n",
    "from keras.optimizers import Adam\n",
    "from keras.models import load_model\n",
    "import numpy as np\n",
    "import pandas as pd\n",
    "import matplotlib.pyplot as plt\n",
    "from sklearn.model_selection import train_test_split\n",
    "from keras.utils import to_categorical\n",
    "from tqdm import tqdm"
   ]
  },
  {
   "cell_type": "code",
   "execution_count": 2,
   "metadata": {},
   "outputs": [],
   "source": [
    "import os\n",
    "os.environ['CUDA_VISIBLE_DEVICES'] ='1'"
   ]
  },
  {
   "cell_type": "code",
   "execution_count": 3,
   "metadata": {},
   "outputs": [],
   "source": [
    "train = pd.read_csv('aug/train.csv')"
   ]
  },
  {
   "cell_type": "code",
   "execution_count": 5,
   "metadata": {},
   "outputs": [
    {
     "data": {
      "text/html": [
       "<div>\n",
       "<style scoped>\n",
       "    .dataframe tbody tr th:only-of-type {\n",
       "        vertical-align: middle;\n",
       "    }\n",
       "\n",
       "    .dataframe tbody tr th {\n",
       "        vertical-align: top;\n",
       "    }\n",
       "\n",
       "    .dataframe thead th {\n",
       "        text-align: right;\n",
       "    }\n",
       "</style>\n",
       "<table border=\"1\" class=\"dataframe\">\n",
       "  <thead>\n",
       "    <tr style=\"text-align: right;\">\n",
       "      <th></th>\n",
       "      <th>images</th>\n",
       "      <th>category</th>\n",
       "    </tr>\n",
       "  </thead>\n",
       "  <tbody>\n",
       "    <tr>\n",
       "      <th>0</th>\n",
       "      <td>2812765.jpg</td>\n",
       "      <td>1</td>\n",
       "    </tr>\n",
       "    <tr>\n",
       "      <th>1</th>\n",
       "      <td>2792364.jpg</td>\n",
       "      <td>1</td>\n",
       "    </tr>\n",
       "    <tr>\n",
       "      <th>2</th>\n",
       "      <td>list1_4885.jpg</td>\n",
       "      <td>1</td>\n",
       "    </tr>\n",
       "    <tr>\n",
       "      <th>3</th>\n",
       "      <td>2841613.jpg</td>\n",
       "      <td>1</td>\n",
       "    </tr>\n",
       "    <tr>\n",
       "      <th>4</th>\n",
       "      <td>2823206.jpg</td>\n",
       "      <td>1</td>\n",
       "    </tr>\n",
       "  </tbody>\n",
       "</table>\n",
       "</div>"
      ],
      "text/plain": [
       "           images  category\n",
       "0     2812765.jpg         1\n",
       "1     2792364.jpg         1\n",
       "2  list1_4885.jpg         1\n",
       "3     2841613.jpg         1\n",
       "4     2823206.jpg         1"
      ]
     },
     "execution_count": 5,
     "metadata": {},
     "output_type": "execute_result"
    }
   ],
   "source": [
    "train.head()"
   ]
  },
  {
   "cell_type": "code",
   "execution_count": 7,
   "metadata": {},
   "outputs": [
    {
     "name": "stderr",
     "output_type": "stream",
     "text": [
      "100%|██████████| 27657/27657 [00:35<00:00, 776.05it/s]\n"
     ]
    }
   ],
   "source": [
    "# We have grayscale images, so while loading the images we will keep grayscale=True, if you have RGB images, you should set grayscale as False\n",
    "train_image = []\n",
    "for i in tqdm(range(train.shape[0])):\n",
    "    img = image.load_img('aug/images/'+train['images'][i], target_size=(224,224,1))\n",
    "    img = image.img_to_array(img)\n",
    "    img = img/255\n",
    "    train_image.append(img)\n",
    "X = np.array(train_image)"
   ]
  },
  {
   "cell_type": "code",
   "execution_count": 8,
   "metadata": {},
   "outputs": [],
   "source": [
    "y=train['category'].values\n",
    "y = to_categorical(y)"
   ]
  },
  {
   "cell_type": "code",
   "execution_count": 9,
   "metadata": {},
   "outputs": [],
   "source": [
    "X_train, X_test, y_train, y_test = train_test_split(X, y, random_state=42, test_size=0.2)"
   ]
  },
  {
   "cell_type": "code",
   "execution_count": 10,
   "metadata": {},
   "outputs": [],
   "source": [
    "def res_models(img_rows, img_cols, channel=1, num_classes=None):\n",
    "    model = applications.resnet50.ResNet50(include_top=True, weights='imagenet')\n",
    "\n",
    "    # Truncate and replace softmax layer for transfer learning\n",
    "    \n",
    "    model.layers.pop()\n",
    "    model.outputs = [model.layers[-1].output]\n",
    "    model.layers[-1].outbound_nodes = []\n",
    "    \n",
    "    new_model = Sequential()\n",
    "    new_model.add(model)\n",
    "    new_model.add(Dense(num_classes, activation='softmax'))\n",
    "\n",
    "#     Uncomment below to set the first 10 layers to non-trainable (weights will not be updated)\n",
    "    for layer in model.layers[:5]:\n",
    "        layer.trainable = True\n",
    "\n",
    "    # Learning rate is changed to 0.001\n",
    "    adam = Adam(lr=0.001, beta_1=0.9, beta_2=0.999, epsilon=None, decay=0.0, amsgrad=False)\n",
    "    sgd = SGD(lr=1e-3, decay=1e-6, momentum=0.9, nesterov=True)\n",
    "    new_model.compile(optimizer=sgd, loss='categorical_crossentropy', metrics=['accuracy'])\n",
    "\n",
    "    return new_model"
   ]
  },
  {
   "cell_type": "code",
   "execution_count": 12,
   "metadata": {},
   "outputs": [],
   "source": [
    "img_rows, img_cols = 224, 224 # Resolution of inputs\n",
    "channel = 1\n",
    "num_classes = 6\n",
    "batch_size = 1\n",
    "nb_epoch = 15"
   ]
  },
  {
   "cell_type": "code",
   "execution_count": 13,
   "metadata": {},
   "outputs": [],
   "source": [
    "model = res_models(img_rows, img_cols, channel, num_classes)"
   ]
  },
  {
   "cell_type": "code",
   "execution_count": 17,
   "metadata": {},
   "outputs": [
    {
     "name": "stderr",
     "output_type": "stream",
     "text": [
      "/home/humonics/.virtualenvs/capi/lib/python3.6/site-packages/ipykernel_launcher.py:6: UserWarning: The `nb_epoch` argument in `fit` has been renamed `epochs`.\n",
      "  \n"
     ]
    },
    {
     "name": "stdout",
     "output_type": "stream",
     "text": [
      "Train on 24891 samples, validate on 2766 samples\n",
      "Epoch 1/15\n",
      "24891/24891 [==============================] - 210s 8ms/step - loss: 0.2440 - acc: 0.9157 - val_loss: 0.8290 - val_acc: 0.7169\n",
      "Epoch 2/15\n",
      "24891/24891 [==============================] - 204s 8ms/step - loss: 0.0392 - acc: 0.9891 - val_loss: 0.2520 - val_acc: 0.9114\n",
      "Epoch 3/15\n",
      "24891/24891 [==============================] - 205s 8ms/step - loss: 0.0111 - acc: 0.9974 - val_loss: 0.2511 - val_acc: 0.9237\n",
      "Epoch 4/15\n",
      "24891/24891 [==============================] - 205s 8ms/step - loss: 0.0053 - acc: 0.9988 - val_loss: 0.8187 - val_acc: 0.7928\n",
      "Epoch 5/15\n",
      "24891/24891 [==============================] - 205s 8ms/step - loss: 0.0054 - acc: 0.9985 - val_loss: 0.6881 - val_acc: 0.8265\n",
      "Epoch 6/15\n",
      "24891/24891 [==============================] - 205s 8ms/step - loss: 0.0041 - acc: 0.9991 - val_loss: 0.4895 - val_acc: 0.8677\n",
      "Epoch 7/15\n",
      "24891/24891 [==============================] - 205s 8ms/step - loss: 0.0035 - acc: 0.9992 - val_loss: 0.8833 - val_acc: 0.7925\n",
      "Epoch 8/15\n",
      "24891/24891 [==============================] - 205s 8ms/step - loss: 0.0025 - acc: 0.9996 - val_loss: 0.4039 - val_acc: 0.8984\n",
      "Epoch 9/15\n",
      "24891/24891 [==============================] - 205s 8ms/step - loss: 0.0016 - acc: 0.9997 - val_loss: 0.2149 - val_acc: 0.9403\n",
      "Epoch 10/15\n",
      "24891/24891 [==============================] - 205s 8ms/step - loss: 0.0017 - acc: 0.9998 - val_loss: 0.2852 - val_acc: 0.9241\n",
      "Epoch 11/15\n",
      "24891/24891 [==============================] - 204s 8ms/step - loss: 0.0014 - acc: 0.9997 - val_loss: 0.2852 - val_acc: 0.9288\n",
      "Epoch 12/15\n",
      "24891/24891 [==============================] - 204s 8ms/step - loss: 8.7224e-04 - acc: 0.9998 - val_loss: 0.2704 - val_acc: 0.9367\n",
      "Epoch 13/15\n",
      "24891/24891 [==============================] - 204s 8ms/step - loss: 8.1857e-04 - acc: 0.9998 - val_loss: 0.3033 - val_acc: 0.9281\n",
      "Epoch 14/15\n",
      "24891/24891 [==============================] - 205s 8ms/step - loss: 7.3268e-04 - acc: 0.9999 - val_loss: 0.3295 - val_acc: 0.9266\n",
      "Epoch 15/15\n",
      "24891/24891 [==============================] - 205s 8ms/step - loss: 9.4476e-04 - acc: 0.9999 - val_loss: 0.7216 - val_acc: 0.8330\n"
     ]
    },
    {
     "data": {
      "text/plain": [
       "<keras.callbacks.History at 0x7f5a69f5f9b0>"
      ]
     },
     "execution_count": 17,
     "metadata": {},
     "output_type": "execute_result"
    }
   ],
   "source": [
    "# Start Fine-tuning\n",
    "model.fit(X, y,\n",
    "          nb_epoch=15,\n",
    "          shuffle=True,\n",
    "          verbose=1,\n",
    "          validation_split=0.1\n",
    "          )"
   ]
  },
  {
   "cell_type": "code",
   "execution_count": 18,
   "metadata": {},
   "outputs": [
    {
     "name": "stdout",
     "output_type": "stream",
     "text": [
      "model saved..!\n"
     ]
    }
   ],
   "source": [
    "model.save_weights('final1.hdf5')\n",
    "print(\"model saved..!\")"
   ]
  },
  {
   "cell_type": "code",
   "execution_count": 19,
   "metadata": {},
   "outputs": [],
   "source": [
    "test = pd.read_csv('test_ApKoW4T.csv')"
   ]
  },
  {
   "cell_type": "code",
   "execution_count": 22,
   "metadata": {},
   "outputs": [
    {
     "data": {
      "text/html": [
       "<div>\n",
       "<style scoped>\n",
       "    .dataframe tbody tr th:only-of-type {\n",
       "        vertical-align: middle;\n",
       "    }\n",
       "\n",
       "    .dataframe tbody tr th {\n",
       "        vertical-align: top;\n",
       "    }\n",
       "\n",
       "    .dataframe thead th {\n",
       "        text-align: right;\n",
       "    }\n",
       "</style>\n",
       "<table border=\"1\" class=\"dataframe\">\n",
       "  <thead>\n",
       "    <tr style=\"text-align: right;\">\n",
       "      <th></th>\n",
       "      <th>image</th>\n",
       "    </tr>\n",
       "  </thead>\n",
       "  <tbody>\n",
       "    <tr>\n",
       "      <th>0</th>\n",
       "      <td>1007700.jpg</td>\n",
       "    </tr>\n",
       "    <tr>\n",
       "      <th>1</th>\n",
       "      <td>1011369.jpg</td>\n",
       "    </tr>\n",
       "    <tr>\n",
       "      <th>2</th>\n",
       "      <td>1051155.jpg</td>\n",
       "    </tr>\n",
       "    <tr>\n",
       "      <th>3</th>\n",
       "      <td>1062001.jpg</td>\n",
       "    </tr>\n",
       "    <tr>\n",
       "      <th>4</th>\n",
       "      <td>1069397.jpg</td>\n",
       "    </tr>\n",
       "  </tbody>\n",
       "</table>\n",
       "</div>"
      ],
      "text/plain": [
       "         image\n",
       "0  1007700.jpg\n",
       "1  1011369.jpg\n",
       "2  1051155.jpg\n",
       "3  1062001.jpg\n",
       "4  1069397.jpg"
      ]
     },
     "execution_count": 22,
     "metadata": {},
     "output_type": "execute_result"
    }
   ],
   "source": [
    "test.head()"
   ]
  },
  {
   "cell_type": "code",
   "execution_count": 21,
   "metadata": {},
   "outputs": [
    {
     "name": "stdout",
     "output_type": "stream",
     "text": [
      "_________________________________________________________________\n",
      "Layer (type)                 Output Shape              Param #   \n",
      "=================================================================\n",
      "resnet50 (Model)             multiple                  23587712  \n",
      "_________________________________________________________________\n",
      "dense_1 (Dense)              (None, 6)                 12294     \n",
      "=================================================================\n",
      "Total params: 23,600,006\n",
      "Trainable params: 23,546,886\n",
      "Non-trainable params: 53,120\n",
      "_________________________________________________________________\n"
     ]
    }
   ],
   "source": [
    "model.summary()"
   ]
  },
  {
   "cell_type": "code",
   "execution_count": 24,
   "metadata": {},
   "outputs": [
    {
     "name": "stderr",
     "output_type": "stream",
     "text": [
      "100%|██████████| 2680/2680 [00:05<00:00, 484.69it/s]\n"
     ]
    }
   ],
   "source": [
    "test_image = []\n",
    "for i in tqdm(range(test.shape[0])):\n",
    "    img = image.load_img('train/images/'+test['image'][i], target_size=(224,224,1))\n",
    "    img = image.img_to_array(img)\n",
    "    img = img/255\n",
    "    test_image.append(img)\n",
    "test = np.array(test_image)"
   ]
  },
  {
   "cell_type": "code",
   "execution_count": 25,
   "metadata": {},
   "outputs": [],
   "source": [
    "feature = model.predict(test)"
   ]
  },
  {
   "cell_type": "code",
   "execution_count": 26,
   "metadata": {},
   "outputs": [],
   "source": [
    "results = []\n",
    "for i in range(feature.shape[0]):\n",
    "    pred = np.argmax(feature[i])\n",
    "    results.append(pred)"
   ]
  },
  {
   "cell_type": "code",
   "execution_count": 27,
   "metadata": {},
   "outputs": [],
   "source": [
    "test = pd.read_csv('test_ApKoW4T.csv')"
   ]
  },
  {
   "cell_type": "code",
   "execution_count": 28,
   "metadata": {},
   "outputs": [],
   "source": [
    "sample = pd.read_csv('sample_submission_ns2btKE.csv')\n",
    "sample['image'] = test['image']\n",
    "sample['category'] = results\n",
    "sample.to_csv('final1.csv', header=True, index=False)"
   ]
  },
  {
   "cell_type": "code",
   "execution_count": null,
   "metadata": {},
   "outputs": [],
   "source": []
  },
  {
   "cell_type": "code",
   "execution_count": null,
   "metadata": {},
   "outputs": [],
   "source": []
  }
 ],
 "metadata": {
  "kernelspec": {
   "display_name": "Python 3",
   "language": "python",
   "name": "python3"
  },
  "language_info": {
   "codemirror_mode": {
    "name": "ipython",
    "version": 3
   },
   "file_extension": ".py",
   "mimetype": "text/x-python",
   "name": "python",
   "nbconvert_exporter": "python",
   "pygments_lexer": "ipython3",
   "version": "3.6.5"
  }
 },
 "nbformat": 4,
 "nbformat_minor": 2
}
